{
 "cells": [
  {
   "cell_type": "code",
   "execution_count": 1,
   "metadata": {},
   "outputs": [],
   "source": [
    "import os\n",
    "import numpy as np\n",
    "import pandas as pd\n",
    "import torch\n",
    "import torch.nn as nn\n",
    "from sklearn.model_selection import train_test_split\n",
    "from sklearn.metrics import classification_report\n",
    "import transformers\n",
    "from transformers import AutoModel, BertTokenizerFast"
   ]
  },
  {
   "cell_type": "code",
   "execution_count": 2,
   "metadata": {},
   "outputs": [],
   "source": [
    "import matplotlib as mpl"
   ]
  },
  {
   "cell_type": "code",
   "execution_count": 3,
   "metadata": {},
   "outputs": [],
   "source": [
    "from glob import glob"
   ]
  },
  {
   "cell_type": "code",
   "execution_count": null,
   "metadata": {},
   "outputs": [],
   "source": []
  },
  {
   "cell_type": "code",
   "execution_count": 4,
   "metadata": {},
   "outputs": [],
   "source": [
    "import matplotlib.pyplot as plt"
   ]
  },
  {
   "cell_type": "code",
   "execution_count": 5,
   "metadata": {},
   "outputs": [],
   "source": [
    "import seaborn as sns"
   ]
  },
  {
   "cell_type": "code",
   "execution_count": null,
   "metadata": {},
   "outputs": [],
   "source": []
  },
  {
   "cell_type": "code",
   "execution_count": 6,
   "metadata": {},
   "outputs": [],
   "source": [
    "if not os.path.isdir('blogs'):\n",
    "    \n",
    "    !curl -OL 'https://huggingface.co/datasets/blog_authorship_corpus/resolve/main/data/blogs.zip?download=true'\n",
    "    \n",
    "    !unzip -q blogger-com-aug-2004.zip\n",
    "    "
   ]
  },
  {
   "cell_type": "code",
   "execution_count": null,
   "metadata": {},
   "outputs": [],
   "source": []
  },
  {
   "cell_type": "code",
   "execution_count": 7,
   "metadata": {},
   "outputs": [],
   "source": [
    "blogs = glob('blogs/*.xml')"
   ]
  },
  {
   "cell_type": "code",
   "execution_count": 8,
   "metadata": {},
   "outputs": [
    {
     "data": {
      "text/plain": [
       "19320"
      ]
     },
     "execution_count": 8,
     "metadata": {},
     "output_type": "execute_result"
    }
   ],
   "source": [
    "len(blogs)"
   ]
  },
  {
   "cell_type": "code",
   "execution_count": 9,
   "metadata": {},
   "outputs": [],
   "source": [
    "from tqdm import tqdm"
   ]
  },
  {
   "cell_type": "code",
   "execution_count": 10,
   "metadata": {},
   "outputs": [],
   "source": [
    "import re"
   ]
  },
  {
   "cell_type": "code",
   "execution_count": null,
   "metadata": {},
   "outputs": [],
   "source": []
  },
  {
   "cell_type": "code",
   "execution_count": 11,
   "metadata": {},
   "outputs": [
    {
     "name": "stderr",
     "output_type": "stream",
     "text": [
      "100%|███████████████████████████████████████████████████████████████████████████████████████████████████████████████████████████████████████████████████████████████████████████████████████████████████████████████████████| 19320/19320 [00:02<00:00, 7746.94it/s]\n",
      "100%|███████████████████████████████████████████████████████████████████████████████████████████████████████████████████████████████████████████████████████████████████████████████████████████████████████████████████████| 19320/19320 [00:08<00:00, 2340.07it/s]\n",
      "100%|██████████████████████████████████████████████████████████████████████████████████████████████████████████████████████████████████████████████████████████████████████████████████████████████████████████████████████| 19320/19320 [00:01<00:00, 13060.34it/s]\n",
      "100%|██████████████████████████████████████████████████████████████████████████████████████████████████████████████████████████████████████████████████████████████████████████████████████████████████████████████████████| 19320/19320 [00:01<00:00, 17136.97it/s]\n"
     ]
    }
   ],
   "source": [
    "blog_texts = blogs\n",
    "blog_texts = [open(b, 'rb').read().decode('cp1252', errors='ignore') for b in tqdm(blog_texts)]\n",
    "blog_texts = [re.sub(r'[\\r\\n]', ' ', b) for b in tqdm(blog_texts)]\n",
    "blog_texts = [re.sub(r'</post>', '</post>\\r\\n', b) for b in tqdm(blog_texts)]\n",
    "blog_texts = [re.findall(r'<post>(.*)</post>', b) for b in tqdm(blog_texts)]"
   ]
  },
  {
   "cell_type": "code",
   "execution_count": 12,
   "metadata": {},
   "outputs": [
    {
     "name": "stderr",
     "output_type": "stream",
     "text": [
      "100%|█████████████████████████████████████████████████████████████████████████████████████████████████████████████████████████████████████████████████████████████████████████████████████████████████████████████████████| 19320/19320 [00:00<00:00, 211406.34it/s]\n"
     ]
    }
   ],
   "source": [
    "blog_texts = [p for b in tqdm(blog_texts) for p in b]"
   ]
  },
  {
   "cell_type": "code",
   "execution_count": 13,
   "metadata": {},
   "outputs": [
    {
     "data": {
      "text/plain": [
       "681288"
      ]
     },
     "execution_count": 13,
     "metadata": {},
     "output_type": "execute_result"
    }
   ],
   "source": [
    "len(blog_texts)"
   ]
  },
  {
   "cell_type": "code",
   "execution_count": 14,
   "metadata": {},
   "outputs": [
    {
     "data": {
      "text/plain": [
       "'                  alright now please understand that firstly i am just a human being a little boy a single life in the big real world i dont really know of whom or whatsoever person will think about what i am about to write but my intension are as always the truth with no hard feeling towards anyone at all i had always been sincere to people whom i have met but sometime this kind of thing will just come and go so in words to say i have not yet found a actual soul mate yet only wish i could have  nbsp  i had always though the present girl during the time of the relationship will be a life soul mate but as obvious this doesnt turn out ot be true i had always put in my very best for my relationship but as most of everyone disappointment i had always fail to keep up the relationship there is no one else to blam except for myself i know i had been trying my best to keep my temper but we if you cant keep you just cant but what i say right now i am more clam than ever  nbsp  talking about temper sometime this wonders me you know why well cause every thing happen for a reason some reason you just cannot explain but well i do sometime thing that temper in a way are good for you it do provide you with the abitlity to achive something someone else is not willing to give or forgot to give or careless enough to forget but well i really dont know how to explain but that only to explain as that every thing in this life have is good and bad or have its pro and cons  nbsp  so lets comeback to the subject  nbsp  how can you tell  can i say this i wonder you know sometime you dont actually know who is your girlfriend and who is not i have a lot of firend whom is a girl very very very close so close that most people think we are in relationship but simply we are the best of friends so well all i could say are that i know my true first girl by the way i really feel and my planning ahead which i have lie for both of us to some extend most will be vannish as right now we are broken off  nbsp  my girlnbspnbsp  nbspnbsp   nbsp   to be continue hopefully not forgotten                    '"
      ]
     },
     "execution_count": 14,
     "metadata": {},
     "output_type": "execute_result"
    }
   ],
   "source": [
    "post_text = blog_texts\n",
    "post_text = [re.sub(r'[^\\w\\s]', r'', p.lower()) for p in post_text]\n",
    "post_text[0]"
   ]
  },
  {
   "cell_type": "code",
   "execution_count": 15,
   "metadata": {},
   "outputs": [
    {
     "data": {
      "text/plain": [
       "'                  alright now please understand that firstly i am just a human being a little boy a single life in the big real world i dont really know of whom or whatsoever person will think about what i am about to write but my intension are as always the truth with no hard feeling towards anyone at all i had always been sincere to people whom i have met but sometime this kind of thing will just come and go so in words to say i have not yet found a actual soul mate yet only wish i could have  nbsp  i had always though the present girl during the time of the relationship will be a life soul mate but as obvious this doesnt turn out ot be true i had always put in my very best for my relationship but as most of everyone disappointment i had always fail to keep up the relationship there is no one else to blam except for myself i know i had been trying my best to keep my temper but we if you cant keep you just cant but what i say right now i am more clam than ever  nbsp  talking about temper sometime this wonders me you know why well cause every thing happen for a reason some reason you just cannot explain but well i do sometime thing that temper in a way are good for you it do provide you with the abitlity to achive something someone else is not willing to give or forgot to give or careless enough to forget but well i really dont know how to explain but that only to explain as that every thing in this life have is good and bad or have its pro and cons  nbsp  so lets comeback to the subject  nbsp  how can you tell  can i say this i wonder you know sometime you dont actually know who is your girlfriend and who is not i have a lot of firend whom is a girl very very very close so close that most people think we are in relationship but simply we are the best of friends so well all i could say are that i know my true first girl by the way i really feel and my planning ahead which i have lie for both of us to some extend most will be vannish as right now we are broken off  nbsp  my girlnbspnbsp  nbspnbsp   nbsp   to be continue hopefully not forgotten                    '"
      ]
     },
     "execution_count": 15,
     "metadata": {},
     "output_type": "execute_result"
    }
   ],
   "source": [
    "post_text[0]"
   ]
  },
  {
   "cell_type": "code",
   "execution_count": 16,
   "metadata": {},
   "outputs": [
    {
     "data": {
      "text/plain": [
       "['alright',\n",
       " 'now',\n",
       " 'please',\n",
       " 'understand',\n",
       " 'that',\n",
       " 'firstly',\n",
       " 'i',\n",
       " 'am',\n",
       " 'just',\n",
       " 'a',\n",
       " 'human',\n",
       " 'being',\n",
       " 'a',\n",
       " 'little',\n",
       " 'boy',\n",
       " 'a',\n",
       " 'single',\n",
       " 'life',\n",
       " 'in',\n",
       " 'the']"
      ]
     },
     "execution_count": 16,
     "metadata": {},
     "output_type": "execute_result"
    }
   ],
   "source": [
    "post_words = post_text\n",
    "post_words = [p.split() for p in post_words]\n",
    "post_words = [[w.strip() for w in p] for p in post_words]\n",
    "post_words = [[w for w in p if len(w) > 0] for p in post_words]\n",
    "post_words[0][:20]"
   ]
  },
  {
   "cell_type": "code",
   "execution_count": null,
   "metadata": {},
   "outputs": [],
   "source": []
  },
  {
   "cell_type": "code",
   "execution_count": 17,
   "metadata": {},
   "outputs": [],
   "source": [
    "from sklearn.feature_extraction.text import CountVectorizer"
   ]
  },
  {
   "cell_type": "code",
   "execution_count": 18,
   "metadata": {},
   "outputs": [
    {
     "data": {
      "text/plain": [
       "681288"
      ]
     },
     "execution_count": 18,
     "metadata": {},
     "output_type": "execute_result"
    }
   ],
   "source": [
    "len(post_words)"
   ]
  },
  {
   "cell_type": "code",
   "execution_count": 19,
   "metadata": {},
   "outputs": [
    {
     "data": {
      "text/plain": [
       "135834590"
      ]
     },
     "execution_count": 19,
     "metadata": {},
     "output_type": "execute_result"
    }
   ],
   "source": [
    "sum([len(p) for p in post_words])"
   ]
  },
  {
   "cell_type": "code",
   "execution_count": 20,
   "metadata": {},
   "outputs": [],
   "source": [
    "cleaned_texts = [' '.join(p) for p in post_words]"
   ]
  },
  {
   "cell_type": "code",
   "execution_count": 21,
   "metadata": {},
   "outputs": [
    {
     "data": {
      "text/plain": [
       "4650"
      ]
     },
     "execution_count": 21,
     "metadata": {},
     "output_type": "execute_result"
    }
   ],
   "source": [
    "cv = CountVectorizer(min_df=1500)\n",
    "cv.fit(cleaned_texts)\n",
    "len(cv.vocabulary_)"
   ]
  },
  {
   "cell_type": "code",
   "execution_count": 22,
   "metadata": {},
   "outputs": [
    {
     "data": {
      "text/plain": [
       "[('alright', 205),\n",
       " ('now', 2844),\n",
       " ('please', 3097),\n",
       " ('understand', 4324),\n",
       " ('that', 4123),\n",
       " ('am', 211),\n",
       " ('just', 2290),\n",
       " ('human', 2064),\n",
       " ('being', 459),\n",
       " ('little', 2476),\n",
       " ('boy', 582),\n",
       " ('single', 3724),\n",
       " ('life', 2440),\n",
       " ('in', 2118),\n",
       " ('the', 4127),\n",
       " ('big', 489),\n",
       " ('real', 3322),\n",
       " ('world', 4581),\n",
       " ('dont', 1263),\n",
       " ('really', 3330)]"
      ]
     },
     "execution_count": 22,
     "metadata": {},
     "output_type": "execute_result"
    }
   ],
   "source": [
    "[(k, v) for k, v in cv.vocabulary_.items()][:20]"
   ]
  },
  {
   "cell_type": "code",
   "execution_count": null,
   "metadata": {},
   "outputs": [],
   "source": []
  },
  {
   "cell_type": "code",
   "execution_count": null,
   "metadata": {},
   "outputs": [],
   "source": []
  },
  {
   "cell_type": "code",
   "execution_count": 23,
   "metadata": {},
   "outputs": [
    {
     "name": "stderr",
     "output_type": "stream",
     "text": [
      "100%|████████████████████████████████████████████████████████████████████████████████████████████████████████████████████████████████████████████████████████████████████████████████████████████████████████████████████| 681288/681288 [00:32<00:00, 20982.69it/s]\n"
     ]
    }
   ],
   "source": [
    "vectorised_text = [\n",
    "    [cv.vocabulary_.get(w, -1) for w in l] for l in tqdm(post_words)\n",
    "]"
   ]
  },
  {
   "cell_type": "code",
   "execution_count": null,
   "metadata": {},
   "outputs": [],
   "source": []
  },
  {
   "cell_type": "code",
   "execution_count": 24,
   "metadata": {},
   "outputs": [],
   "source": [
    "import numpy as np"
   ]
  },
  {
   "cell_type": "code",
   "execution_count": 25,
   "metadata": {},
   "outputs": [],
   "source": [
    "vectorised_text = [np.array(p) for p in vectorised_text]"
   ]
  },
  {
   "cell_type": "code",
   "execution_count": 26,
   "metadata": {
    "scrolled": true
   },
   "outputs": [
    {
     "data": {
      "text/plain": [
       "[array([ 205, 2844, 3097, 4324, 4123,   -1,   -1,  211, 2290,   -1, 2064,\n",
       "         459,   -1, 2476,  582,   -1, 3724, 2440, 2118, 4127]),\n",
       " array([  -1, 1813,   -1, 4360,   -1, 4360, 4360,   -1, 2771, 1979, 3932,\n",
       "        1420,   -1, 2290,  682, 3596, 4204, 1631, 4127, 2101]),\n",
       " array([2898, 4150,   -1, 1824, 4204, 4093, 4631,  293, 4123, 2091, 4631,\n",
       "        1461, 4561, 4523,   -1, 3631, 4127, 1940, 2871, 4158])]"
      ]
     },
     "execution_count": 26,
     "metadata": {},
     "output_type": "execute_result"
    }
   ],
   "source": [
    "[v[:20] for v in vectorised_text[:3]]"
   ]
  },
  {
   "cell_type": "code",
   "execution_count": 27,
   "metadata": {},
   "outputs": [
    {
     "data": {
      "image/png": "[encoded data removed]",
      "text/plain": [
       "<Figure size 432x288 with 1 Axes>"
      ]
     },
     "metadata": {
      "needs_background": "light"
     },
     "output_type": "display_data"
    }
   ],
   "source": [
    "plt.hist([(p == -1).sum() / len(p) for p in vectorised_text if len(p) > 0], bins=20);"
   ]
  },
  {
   "cell_type": "code",
   "execution_count": 28,
   "metadata": {},
   "outputs": [],
   "source": [
    "vectorised_text = [p[p >= 0] for p in vectorised_text]\n",
    "vectorised_text = [p for p in vectorised_text if len(p > 0)]"
   ]
  },
  {
   "cell_type": "code",
   "execution_count": 29,
   "metadata": {},
   "outputs": [
    {
     "data": {
      "image/png": "[encoded data removed]",
      "text/plain": [
       "<Figure size 432x288 with 1 Axes>"
      ]
     },
     "metadata": {
      "needs_background": "light"
     },
     "output_type": "display_data"
    }
   ],
   "source": [
    "plt.hist(np.clip([len(p) for p in vectorised_text], None, 1000), bins=20);"
   ]
  },
  {
   "cell_type": "code",
   "execution_count": 30,
   "metadata": {},
   "outputs": [],
   "source": [
    "vectorised_text = [p for p in vectorised_text if len(p) >= 100]"
   ]
  },
  {
   "cell_type": "code",
   "execution_count": 31,
   "metadata": {},
   "outputs": [
    {
     "data": {
      "image/png": "[encoded data removed]",
      "text/plain": [
       "<Figure size 432x288 with 1 Axes>"
      ]
     },
     "metadata": {
      "needs_background": "light"
     },
     "output_type": "display_data"
    }
   ],
   "source": [
    "plt.hist(np.clip([len(p) for p in vectorised_text], None, 1000), bins=20);"
   ]
  },
  {
   "cell_type": "code",
   "execution_count": null,
   "metadata": {},
   "outputs": [],
   "source": []
  },
  {
   "cell_type": "code",
   "execution_count": 32,
   "metadata": {},
   "outputs": [
    {
     "data": {
      "image/png": "[encoded data removed]",
      "text/plain": [
       "<Figure size 864x360 with 1 Axes>"
      ]
     },
     "metadata": {
      "needs_background": "light"
     },
     "output_type": "display_data"
    }
   ],
   "source": [
    "plt.figure(figsize=(12, 5))\n",
    "plt.hist(np.clip([\n",
    "    np.unique(p, return_counts=True)[1].max()\n",
    "    for p in vectorised_text], 0, 50), bins=50);"
   ]
  },
  {
   "cell_type": "code",
   "execution_count": 33,
   "metadata": {},
   "outputs": [],
   "source": [
    "cv_reverce_ix = {v: k for k, v in cv.vocabulary_.items()}"
   ]
  },
  {
   "cell_type": "code",
   "execution_count": null,
   "metadata": {},
   "outputs": [],
   "source": []
  },
  {
   "cell_type": "markdown",
   "metadata": {},
   "source": [
    "# KL text"
   ]
  },
  {
   "cell_type": "code",
   "execution_count": 34,
   "metadata": {},
   "outputs": [],
   "source": [
    "min_len, max_len = 25, 150"
   ]
  },
  {
   "cell_type": "code",
   "execution_count": 35,
   "metadata": {},
   "outputs": [],
   "source": [
    "seq_len_orig = np.array([len(p) for p in vectorised_text])\n",
    "disjoint_split_point = np.where(\n",
    "    seq_len_orig > 2 * min_len,\n",
    "    (np.random.rand(len(seq_len_orig)) * (seq_len_orig - 2 * min_len)).astype(int) + min_len,\n",
    "    (seq_len_orig / 2).astype(int),\n",
    ")\n",
    "seq_a = [p[:s] for p, s in zip(vectorised_text, disjoint_split_point)]\n",
    "seq_b = [p[s:] for p, s in zip(vectorised_text, disjoint_split_point)]"
   ]
  },
  {
   "cell_type": "code",
   "execution_count": 36,
   "metadata": {},
   "outputs": [],
   "source": [
    "def get_slice(seq):\n",
    "    seq_len_orig = np.array([len(p) for p in seq])\n",
    "    s_max_sample_len = np.clip(seq_len_orig.clip(0, max_len) - min_len, 0, None)\n",
    "    s_len = (s_max_sample_len * np.random.rand(len(seq_len_orig))).astype(int) + min_len\n",
    "    s_avl_pos = np.clip(seq_len_orig - s_len, 0, None)\n",
    "    s_start = (s_avl_pos * np.random.rand(len(seq_len_orig))).astype(int)\n",
    "\n",
    "    return [p[s: s + l] for p, s, l in zip(seq, s_start, s_len)]"
   ]
  },
  {
   "cell_type": "code",
   "execution_count": 37,
   "metadata": {},
   "outputs": [
    {
     "data": {
      "text/plain": [
       "('alright now please understand that am just human being little boy single life in the big real world dont really know of whom or whatsoever person will think about what am about to write but my are as always the truth with no hard feeling towards anyone at all had always been to people whom have met but sometime this kind of thing will just come and go so in words to say have not yet found actual soul mate yet only wish could have nbsp had always though the present girl during the time of the relationship will be life soul mate but as obvious this doesnt turn out be true had always put in my very best for my relationship but as most of everyone disappointment had always fail to keep up the relationship there is no one else to except for myself know had been trying my best to keep my but we if you cant keep you just cant but what say right now am more than ever nbsp talking about sometime this wonders me you know why well cause every thing happen for reason some reason you just cannot explain but well do sometime thing that in way are good for you it do provide you with the to something someone else is not willing to give or forgot to give or enough to forget but well really dont know how to explain but that only to explain as that every thing in this life have is good and bad or have its pro and nbsp so lets to the subject nbsp how can you tell can say this wonder you know sometime you dont actually know who is your girlfriend and who is',\n",
       " 'not have lot of whom is girl very very very close so close that most people think we are in relationship but simply we are the best of friends so well all could say are that know my true first girl by the way really feel and my planning ahead which have lie for both of us to some most will be as right now we are broken off nbsp my nbsp to be continue hopefully not forgotten')"
      ]
     },
     "execution_count": 37,
     "metadata": {},
     "output_type": "execute_result"
    }
   ],
   "source": [
    "' '.join([cv_reverce_ix.get(i) for i in seq_a[0]]), ' '.join([cv_reverce_ix.get(i) for i in seq_b[0]])"
   ]
  },
  {
   "cell_type": "code",
   "execution_count": 38,
   "metadata": {},
   "outputs": [],
   "source": [
    "seq_a = get_slice(seq_a)\n",
    "seq_b = get_slice(seq_b)"
   ]
  },
  {
   "cell_type": "code",
   "execution_count": 39,
   "metadata": {},
   "outputs": [
    {
     "data": {
      "text/plain": [
       "('out be true had always put in my very best for my relationship but as most of everyone disappointment had always fail to keep up the relationship there is no one else to except for myself know had been trying my best to keep my but we if you cant keep you just cant but what say right now am more than ever nbsp talking about sometime this wonders me you know why well cause every thing happen for reason some reason you just cannot explain but well do sometime thing that in way are good for you it do provide you with the to something someone else is not willing to give or forgot to give or enough',\n",
       " 'have lot of whom is girl very very very close so close that most people think we are in relationship but simply we are the best of friends so well all could say are that know my true first girl by the way really feel and my planning ahead which have lie for both of us to some most will be as right now we are broken off nbsp my nbsp to be continue hopefully')"
      ]
     },
     "execution_count": 39,
     "metadata": {},
     "output_type": "execute_result"
    }
   ],
   "source": [
    "' '.join([cv_reverce_ix.get(i) for i in seq_a[0]]), ' '.join([cv_reverce_ix.get(i) for i in seq_b[0]])"
   ]
  },
  {
   "cell_type": "code",
   "execution_count": null,
   "metadata": {},
   "outputs": [],
   "source": []
  },
  {
   "cell_type": "code",
   "execution_count": 40,
   "metadata": {},
   "outputs": [],
   "source": [
    "def _kl(a, b, verbose=False):\n",
    "    a = {k: v / len(a) for k, v in zip(*np.unique(a, return_counts=True))}\n",
    "    b = {k: v / len(b) for k, v in zip(*np.unique(b, return_counts=True))}\n",
    "\n",
    "    d = {k: 0.0 if a.get(k, 0.0) == 0.0 else a.get(k, 0.0) * np.log(a.get(k, 1e-12) / b.get(k, 1e-12))\n",
    "         for k in set(a.keys()).union(b.keys())}\n",
    "    if verbose:\n",
    "        print(sorted([(k, v) for k, v in d.items()], key=lambda x: -x[1]))\n",
    "        \n",
    "    return sum(d.values())\n",
    "\n",
    "\n",
    "def kl_distribution(l_a, l_b):        \n",
    "    return np.array([_kl(a, b) for a, b in tqdm(zip(l_a, l_b))])"
   ]
  },
  {
   "cell_type": "code",
   "execution_count": 41,
   "metadata": {},
   "outputs": [
    {
     "name": "stderr",
     "output_type": "stream",
     "text": [
      "322545it [00:51, 6262.61it/s]\n"
     ]
    }
   ],
   "source": [
    "kl_pos = kl_distribution(seq_a, seq_b)"
   ]
  },
  {
   "cell_type": "code",
   "execution_count": 42,
   "metadata": {},
   "outputs": [
    {
     "name": "stderr",
     "output_type": "stream",
     "text": [
      "322545it [00:52, 6132.42it/s]\n"
     ]
    }
   ],
   "source": [
    "ix_shuffle = np.random.choice(len(seq_a), len(seq_a), replace=False)\n",
    "kl_neg = kl_distribution(seq_a, [seq_b[i] for i in ix_shuffle])"
   ]
  },
  {
   "cell_type": "code",
   "execution_count": 43,
   "metadata": {},
   "outputs": [],
   "source": [
    "plt.rc('text', usetex=True)\n",
    "plt.rc('font', family='serif')"
   ]
  },
  {
   "cell_type": "code",
   "execution_count": 44,
   "metadata": {},
   "outputs": [],
   "source": [
    "df = pd.concat([\n",
    "        pd.DataFrame({'KL': kl_pos.clip(0, None),\n",
    "                      'type': 'Same post sample'}),\n",
    "        pd.DataFrame({'KL': kl_neg.clip(0, None), \n",
    "                      'type': 'Random post sample'}),\n",
    "    ], axis=0).reset_index(drop=True)"
   ]
  },
  {
   "cell_type": "code",
   "execution_count": 45,
   "metadata": {},
   "outputs": [
    {
     "data": {
      "text/plain": [
       "645090"
      ]
     },
     "execution_count": 45,
     "metadata": {},
     "output_type": "execute_result"
    }
   ],
   "source": [
    "len(df)"
   ]
  },
  {
   "cell_type": "code",
   "execution_count": 46,
   "metadata": {},
   "outputs": [],
   "source": [
    "df.sample(frac=0.1).to_parquet('figures/kl_dis_text.parquet')"
   ]
  },
  {
   "cell_type": "code",
   "execution_count": 47,
   "metadata": {},
   "outputs": [
    {
     "name": "stdout",
     "output_type": "stream",
     "text": [
      "-rw-rw-r-- 1 kireev kireev 1.1M Jul 28 18:10 figures/kl_dis_text.parquet\r\n"
     ]
    }
   ],
   "source": [
    "!ls -lh figures/kl_dis_text.parquet"
   ]
  },
  {
   "cell_type": "code",
   "execution_count": 48,
   "metadata": {},
   "outputs": [
    {
     "data": {
      "image/png": "[encoded data removed]",
      "text/plain": [
       "<Figure size 720x720 with 1 Axes>"
      ]
     },
     "metadata": {
      "needs_background": "light"
     },
     "output_type": "display_data"
    }
   ],
   "source": [
    "with mpl.rc_context() as rc:\n",
    "    mpl.rc(\"figure\", figsize=(10, 10))\n",
    "    mpl.rc('font', size=20)\n",
    "\n",
    "    sns.histplot(pd.read_parquet('figures/kl_dis_text.parquet'), x=\"KL\", hue=\"type\", bins=50, element='step')\n",
    "\n",
    "    # plt.title('Age group')\n",
    "    mpl.pyplot.savefig('figures/kl_dis_text.pdf', format='pdf', bbox_inches='tight')\n",
    "    # plt.show()"
   ]
  },
  {
   "cell_type": "code",
   "execution_count": null,
   "metadata": {},
   "outputs": [],
   "source": []
  }
 ],
 "metadata": {
  "kernelspec": {
   "display_name": "Python 3",
   "language": "python",
   "name": "python3"
  },
  "language_info": {
   "codemirror_mode": {
    "name": "ipython",
    "version": 3
   },
   "file_extension": ".py",
   "mimetype": "text/x-python",
   "name": "python",
   "nbconvert_exporter": "python",
   "pygments_lexer": "ipython3",
   "version": "3.11.6"
  },
  "vscode": {
   "interpreter": {
    "hash": "5c7b89af1651d0b8571dde13640ecdccf7d5a6204171d6ab33e7c296e100e08a"
   }
  }
 },
 "nbformat": 4,
 "nbformat_minor": 4
}
